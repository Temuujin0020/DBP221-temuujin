{
 "cells": [
  {
   "cell_type": "code",
   "execution_count": 7,
   "id": "cb162461",
   "metadata": {},
   "outputs": [
    {
     "name": "stdout",
     "output_type": "stream",
     "text": [
      "python\n",
      "php\n",
      "java\n"
     ]
    }
   ],
   "source": [
    "list1=['python', 'php', 'java']\n",
    "print(list1[0])\n",
    "print(list1[1])\n",
    "print(list1[2])\n"
   ]
  },
  {
   "cell_type": "code",
   "execution_count": 6,
   "id": "744c0168",
   "metadata": {},
   "outputs": [
    {
     "name": "stdout",
     "output_type": "stream",
     "text": [
      "52\n"
     ]
    }
   ],
   "source": [
    "list2=[2,8,1,3,5,5,4,8,6,10]\n",
    "k=0\n",
    "for a in range(0, len(list2)):\n",
    "    k = k + list2[a]\n",
    "print(k)"
   ]
  },
  {
   "cell_type": "code",
   "execution_count": 8,
   "id": "5246de1e",
   "metadata": {},
   "outputs": [
    {
     "name": "stdout",
     "output_type": "stream",
     "text": [
      "2240\n"
     ]
    }
   ],
   "source": [
    "list3=[2,5,4,7,8]\n",
    "def urjwer(list) :\n",
    "    k=1\n",
    "    for x in list:\n",
    "        k=k*x\n",
    "    return k\n",
    "print(urjwer(list3))"
   ]
  },
  {
   "cell_type": "code",
   "execution_count": 12,
   "id": "d23edd5d",
   "metadata": {},
   "outputs": [],
   "source": [
    "def urjwer2(list) :\n",
    "    k=list[2]*list[-1]\n",
    "    return k\n",
    "\n"
   ]
  },
  {
   "cell_type": "code",
   "execution_count": 21,
   "id": "a95e2d0e",
   "metadata": {},
   "outputs": [
    {
     "name": "stdout",
     "output_type": "stream",
     "text": [
      "(10, 1)\n"
     ]
    }
   ],
   "source": [
    "def maxmin(list) :\n",
    "    maxim=list[0]\n",
    "    for k in list :\n",
    "        if k > maxim :\n",
    "            maxim=k\n",
    "    minum=list[0]\n",
    "    for k in list :\n",
    "        if k < minum :\n",
    "            minum=k\n",
    "    return maxim,minum\n",
    "            \n",
    "list2=[2,8,1,3,5,5,4,8,6,10] \n",
    "print(maxmin(list2))"
   ]
  },
  {
   "cell_type": "code",
   "execution_count": null,
   "id": "8b2f89e6",
   "metadata": {},
   "outputs": [],
   "source": []
  },
  {
   "cell_type": "code",
   "execution_count": 4,
   "id": "fda4ec74",
   "metadata": {},
   "outputs": [
    {
     "name": "stdout",
     "output_type": "stream",
     "text": [
      "['abdba', 'abcd', 121]\n"
     ]
    }
   ],
   "source": [
    "mylist = ['abdba', 'abcd', 121, 121, 'abcd']\n",
    "mylist = list(dict.fromkeys(mylist))\n",
    "print(mylist)"
   ]
  },
  {
   "cell_type": "code",
   "execution_count": 7,
   "id": "365e167c",
   "metadata": {},
   "outputs": [
    {
     "name": "stdout",
     "output_type": "stream",
     "text": [
      "Empty List\n"
     ]
    }
   ],
   "source": [
    "def check(lis1):\n",
    "    if len(lis1) == 0:\n",
    "        return 0\n",
    "    else:\n",
    "        return 1\n",
    "list1 = []\n",
    "if check(list1):\n",
    "    print (\"The list is not empty\")\n",
    "else:\n",
    "    print(\"Empty List\")"
   ]
  },
  {
   "cell_type": "code",
   "execution_count": 11,
   "id": "0141fcdd",
   "metadata": {},
   "outputs": [
    {
     "name": "stdout",
     "output_type": "stream",
     "text": [
      "[2, 8, 1, 'abcd', 4, 6, 10]\n"
     ]
    }
   ],
   "source": [
    "list2=[2,8,1,'abdba', 'abcd',4,8,6,10,8]\n",
    "list2.pop(3)\n",
    "list2.pop(5)\n",
    "list2.pop(7)\n",
    "print(list2)"
   ]
  },
  {
   "cell_type": "code",
   "execution_count": 1,
   "id": "d55bd708",
   "metadata": {},
   "outputs": [
    {
     "name": "stdout",
     "output_type": "stream",
     "text": [
      "(4, 8, 6, 10, 8, 'adb')\n"
     ]
    }
   ],
   "source": [
    "m=(4,8,6,10,8)\n",
    "k=list(m)\n",
    "k.append('adb')\n",
    "m=tuple(k)\n",
    "print(m)"
   ]
  },
  {
   "cell_type": "code",
   "execution_count": 4,
   "id": "12853505",
   "metadata": {},
   "outputs": [
    {
     "name": "stdout",
     "output_type": "stream",
     "text": [
      "8\n",
      "6\n"
     ]
    }
   ],
   "source": [
    "m=(2,8,1,3,5,5,4,8,6,10)\n",
    "print(m[1])\n",
    "print(m[-2])"
   ]
  },
  {
   "cell_type": "code",
   "execution_count": null,
   "id": "7b19451d",
   "metadata": {},
   "outputs": [],
   "source": [
    "\n"
   ]
  },
  {
   "cell_type": "code",
   "execution_count": 9,
   "id": "f58f3b89",
   "metadata": {},
   "outputs": [
    {
     "name": "stdout",
     "output_type": "stream",
     "text": [
      "2\n",
      "8\n",
      "1\n",
      "3\n",
      "5\n",
      "5\n",
      "4\n",
      "8\n",
      "6\n",
      "10\n"
     ]
    }
   ],
   "source": [
    "m=(2,8,1,3,5,5,4,8,6,10)\n",
    "for z in m :\n",
    "    print(z)"
   ]
  },
  {
   "cell_type": "code",
   "execution_count": 11,
   "id": "4e9dc12f",
   "metadata": {},
   "outputs": [
    {
     "name": "stdout",
     "output_type": "stream",
     "text": [
      "{'red', 'black', 'bentley', 'white', 'mclaren', 'tesla'}\n"
     ]
    }
   ],
   "source": [
    "cars = {'tesla', 'bentley', 'mclaren'} \n",
    "colors = {'red', 'white', 'black'} \n",
    "Newset=cars.union(colors)\n",
    "print(Newset)\n"
   ]
  },
  {
   "cell_type": "code",
   "execution_count": 13,
   "id": "f51faa11",
   "metadata": {},
   "outputs": [
    {
     "name": "stdout",
     "output_type": "stream",
     "text": [
      "{'white'}\n"
     ]
    }
   ],
   "source": [
    "cars = {'tesla', 'bentley', 'mclaren', 'white'} \n",
    "colors = {'red', 'white', 'black'} \n",
    "Newset=cars.intersection(colors)\n",
    "print(Newset)"
   ]
  },
  {
   "cell_type": "code",
   "execution_count": 15,
   "id": "3b9772ee",
   "metadata": {},
   "outputs": [
    {
     "name": "stdout",
     "output_type": "stream",
     "text": [
      "7\n"
     ]
    }
   ],
   "source": [
    "cars = {'tesla', 'bentley', 'mclaren', 'white',8,9,10} \n",
    "print(len(cars))"
   ]
  },
  {
   "cell_type": "code",
   "execution_count": 17,
   "id": "0a1af4a8",
   "metadata": {},
   "outputs": [
    {
     "name": "stdout",
     "output_type": "stream",
     "text": [
      "set()\n"
     ]
    }
   ],
   "source": [
    "cars = {'tesla', 'bentley', 'mclaren', 'white',8,9,10} \n",
    "cars.clear()\n",
    "print(cars)\n"
   ]
  },
  {
   "cell_type": "code",
   "execution_count": 19,
   "id": "1c954d69",
   "metadata": {},
   "outputs": [],
   "source": [
    "cars = {'tesla', 'bentley', 'mclaren', 'white',8,9,10} \n",
    "del cars"
   ]
  },
  {
   "cell_type": "code",
   "execution_count": 23,
   "id": "807fa40e",
   "metadata": {},
   "outputs": [
    {
     "name": "stdout",
     "output_type": "stream",
     "text": [
      "cortado 41\n",
      "americano 48\n",
      "cappuccino 54\n",
      "latte 56\n",
      "espresso 72\n"
     ]
    }
   ],
   "source": [
    "orders = {\n",
    "    'cappuccino': 54,\n",
    "    'latte': 56,\n",
    "    'espresso': 72,\n",
    "    'americano': 48,\n",
    "    'cortado': 41}\n",
    "\n",
    "sort_orders = sorted(orders.items(), key=lambda x: x[1])\n",
    "\n",
    "for i in sort_orders:\n",
    "    print(i[0], i[1])"
   ]
  },
  {
   "cell_type": "code",
   "execution_count": 24,
   "id": "23bd693e",
   "metadata": {},
   "outputs": [
    {
     "name": "stdout",
     "output_type": "stream",
     "text": [
      "espresso 72\n",
      "latte 56\n",
      "cappuccino 54\n",
      "americano 48\n",
      "cortado 41\n"
     ]
    }
   ],
   "source": [
    "orders = {\n",
    "    'cappuccino': 54,\n",
    "    'latte': 56,\n",
    "    'espresso': 72,\n",
    "    'americano': 48,\n",
    "    'cortado': 41}\n",
    "\n",
    "sort_orders = sorted(orders.items(), key=lambda x: x[1], reverse=True)\n",
    "\n",
    "for i in sort_orders:\n",
    "    print(i[0], i[1])"
   ]
  },
  {
   "cell_type": "code",
   "execution_count": 34,
   "id": "38a6eba8",
   "metadata": {},
   "outputs": [
    {
     "name": "stdout",
     "output_type": "stream",
     "text": [
      "YES\n"
     ]
    }
   ],
   "source": [
    "orders = {\n",
    "    'cappuccino': 54,\n",
    "    'latte': 56,\n",
    "    'espresso': 72,\n",
    "    'americano': 48,\n",
    "    'cortado': 41}\n",
    "if 'latte' in orders:\n",
    "    print(\"YES\")\n",
    "else:\n",
    "    print('NO')"
   ]
  },
  {
   "cell_type": "code",
   "execution_count": 42,
   "id": "d8d95e47",
   "metadata": {},
   "outputs": [
    {
     "name": "stdout",
     "output_type": "stream",
     "text": [
      "YES\n"
     ]
    }
   ],
   "source": [
    "orders = {\n",
    "    'cappuccino': 54,\n",
    "    'latte': 56,\n",
    "    'espresso': 72,\n",
    "    'americano': 48,\n",
    "    'cortado': 41}\n",
    "if 48 in orders.values():\n",
    "    print(\"YES\")\n",
    "else:\n",
    "    print(\"NO\")"
   ]
  },
  {
   "cell_type": "code",
   "execution_count": 45,
   "id": "e7252f2b",
   "metadata": {},
   "outputs": [
    {
     "name": "stdout",
     "output_type": "stream",
     "text": [
      "cappuccino 54\n",
      "latte 56\n",
      "espresso 72\n",
      "americano 48\n",
      "cortado 41\n"
     ]
    }
   ],
   "source": [
    "orders = {\n",
    "    'cappuccino': 54,\n",
    "    'latte': 56,\n",
    "    'espresso': 72,\n",
    "    'americano': 48,\n",
    "    'cortado': 41}\n",
    "for x,y in orders.items():\n",
    "    print(x,y)"
   ]
  },
  {
   "cell_type": "code",
   "execution_count": 54,
   "id": "e3bccd7c",
   "metadata": {},
   "outputs": [
    {
     "name": "stdout",
     "output_type": "stream",
     "text": [
      "{'x': 10, 'y': 8, 'a': 6, 'b': 4}\n"
     ]
    }
   ],
   "source": [
    "def Merge(dict1, dict2):\n",
    "    res = dict1 | dict2\n",
    "    return res\n",
    "dict1 = {'x': 10, 'y': 8}\n",
    "dict2 = {'a': 6, 'b': 4}\n",
    "dict3 = Merge(dict1, dict2)\n",
    "print(dict3)\n"
   ]
  },
  {
   "cell_type": "code",
   "execution_count": 56,
   "id": "d3314703",
   "metadata": {},
   "outputs": [
    {
     "name": "stdout",
     "output_type": "stream",
     "text": [
      "271\n"
     ]
    }
   ],
   "source": [
    "orders = {\n",
    "    'cappuccino': 54,\n",
    "    'latte': 56,\n",
    "    'espresso': 72,\n",
    "    'americano': 48,\n",
    "    'cortado': 41}\n",
    "values = orders.values()\n",
    "total = sum(values)\n",
    "print(total)"
   ]
  },
  {
   "cell_type": "code",
   "execution_count": null,
   "id": "2693e691",
   "metadata": {},
   "outputs": [],
   "source": []
  }
 ],
 "metadata": {
  "kernelspec": {
   "display_name": "Python 3 (ipykernel)",
   "language": "python",
   "name": "python3"
  },
  "language_info": {
   "codemirror_mode": {
    "name": "ipython",
    "version": 3
   },
   "file_extension": ".py",
   "mimetype": "text/x-python",
   "name": "python",
   "nbconvert_exporter": "python",
   "pygments_lexer": "ipython3",
   "version": "3.9.7"
  }
 },
 "nbformat": 4,
 "nbformat_minor": 5
}
