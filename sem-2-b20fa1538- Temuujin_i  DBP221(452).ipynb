{
 "cells": [
  {
   "cell_type": "code",
   "execution_count": 12,
   "id": "ff968a2e",
   "metadata": {},
   "outputs": [
    {
     "name": "stdout",
     "output_type": "stream",
     "text": [
      "1221\n",
      "Yes\n"
     ]
    }
   ],
   "source": [
    "#1\n",
    "def isPalindrome(s):\n",
    "\n",
    "    rev = ''.join(reversed(s))\n",
    "\n",
    "    if (s == rev):\n",
    "\n",
    "        return True\n",
    "\n",
    "    return False\n",
    "\n",
    "s = input()\n",
    "\n",
    "ans = isPalindrome(s)\n",
    "\n",
    "if (ans):\n",
    "\n",
    "    print(\"Yes\")\n",
    "\n",
    "else:\n",
    "\n",
    "    print(\"No\")"
   ]
  },
  {
   "cell_type": "code",
   "execution_count": 60,
   "id": "315e08d4",
   "metadata": {},
   "outputs": [
    {
     "name": "stdout",
     "output_type": "stream",
     "text": [
      "(4, 9)\n"
     ]
    }
   ],
   "source": [
    "#2\n",
    "list1=['PYthon', 'pHp', 'javA']\n",
    "def uplow(list):\n",
    "    u,l=0,0\n",
    "    for x in list:\n",
    "        y=0\n",
    "        for y in x:\n",
    "            if y.isupper():\n",
    "                u += 1\n",
    "            elif y.islower():\n",
    "                l += 1\n",
    "    return u,l\n",
    "print(uplow(list1))\n",
    "            "
   ]
  },
  {
   "cell_type": "code",
   "execution_count": 56,
   "id": "d094902b",
   "metadata": {},
   "outputs": [
    {
     "name": "stdout",
     "output_type": "stream",
     "text": [
      "2304000\n"
     ]
    }
   ],
   "source": [
    "#3\n",
    "def urjwer(list):\n",
    "    k=1\n",
    "    for x in list :\n",
    "        k=k*x\n",
    "    return k\n",
    "\n",
    "list2=[2,8,1,3,5,5,4,8,6,10]\n",
    "print(urjwer(list2))\n",
    "    \n",
    "    "
   ]
  },
  {
   "cell_type": "code",
   "execution_count": 11,
   "id": "47824db5",
   "metadata": {},
   "outputs": [
    {
     "name": "stdout",
     "output_type": "stream",
     "text": [
      "3\n",
      "6\n"
     ]
    }
   ],
   "source": [
    "#4\n",
    "k = int(input())+1\n",
    "t=1\n",
    "for j in range(1,k):\n",
    "    t = t * j\n",
    "print(t)"
   ]
  },
  {
   "cell_type": "code",
   "execution_count": 52,
   "id": "05c284a5",
   "metadata": {},
   "outputs": [
    {
     "name": "stdout",
     "output_type": "stream",
     "text": [
      "['asasa', 'as', 10, 6, 8, 4, 5, 5, 3, 1, 8, 2]\n"
     ]
    }
   ],
   "source": [
    "#5\n",
    "def urwuu(list):\n",
    "    newlist = list[::-1]\n",
    "    return newlist\n",
    "\n",
    "list2=[2,8,1,3,5,5,4,8,6,10,'as','asasa']\n",
    "print(urwuu(list2))\n",
    "        "
   ]
  },
  {
   "cell_type": "code",
   "execution_count": 29,
   "id": "88cd2e40",
   "metadata": {},
   "outputs": [
    {
     "name": "stdout",
     "output_type": "stream",
     "text": [
      "42\n"
     ]
    }
   ],
   "source": [
    "#6\n",
    "def niilber(list):\n",
    "    k=0\n",
    "    for x in list:\n",
    "        k=k+x\n",
    "    return k\n",
    "\n",
    "list2=[2,8,1,3,5,5,4,8,6]\n",
    "print(niilber(list2))"
   ]
  },
  {
   "cell_type": "code",
   "execution_count": 34,
   "id": "dcad39bf",
   "metadata": {},
   "outputs": [
    {
     "name": "stdout",
     "output_type": "stream",
     "text": [
      "[2, 8, 1, 3, 5, 4, 6, 'a', 'b']\n"
     ]
    }
   ],
   "source": [
    "#7\n",
    "def dawhar(list):\n",
    "    newlist=[]\n",
    "    for x in list:\n",
    "        if x not in newlist:\n",
    "            newlist.append(x)\n",
    "    return newlist\n",
    "list2=[2,8,1,3,5,5,4,8,6,2,2,2,2,'a','b','a']\n",
    "print(dawhar(list2))\n",
    "        \n",
    "       \n",
    "        \n"
   ]
  },
  {
   "cell_type": "code",
   "execution_count": 31,
   "id": "fd5f71c1",
   "metadata": {},
   "outputs": [
    {
     "name": "stdout",
     "output_type": "stream",
     "text": [
      "788\n"
     ]
    }
   ],
   "source": [
    "#8\n",
    "list=[300,65,788]\n",
    "def maxim(list) :\n",
    "    maxim=list[0]\n",
    "    for k in list :\n",
    "        if k > maxim :\n",
    "            maxim=k\n",
    "    return maxim\n",
    "print(maxim(list))"
   ]
  }
 ],
 "metadata": {
  "kernelspec": {
   "display_name": "Python 3 (ipykernel)",
   "language": "python",
   "name": "python3"
  },
  "language_info": {
   "codemirror_mode": {
    "name": "ipython",
    "version": 3
   },
   "file_extension": ".py",
   "mimetype": "text/x-python",
   "name": "python",
   "nbconvert_exporter": "python",
   "pygments_lexer": "ipython3",
   "version": "3.9.7"
  }
 },
 "nbformat": 4,
 "nbformat_minor": 5
}
