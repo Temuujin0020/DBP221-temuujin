{
 "cells": [
  {
   "cell_type": "code",
   "execution_count": 101,
   "id": "06d9f19e",
   "metadata": {},
   "outputs": [
    {
     "name": "stdout",
     "output_type": "stream",
     "text": [
      "*\n",
      "**\n",
      "***\n",
      "****\n",
      "*****\n",
      "******\n"
     ]
    }
   ],
   "source": [
    "#1\n",
    "def myfunction(n):\n",
    "    for i in range(n):\n",
    "        for j in range(i+1):\n",
    "            print('*', end='')\n",
    "        print()\n",
    "myfunction(6)"
   ]
  },
  {
   "cell_type": "code",
   "execution_count": 100,
   "id": "09dee3b3",
   "metadata": {},
   "outputs": [
    {
     "name": "stdout",
     "output_type": "stream",
     "text": [
      "*\n",
      "**\n",
      "***\n",
      "****\n",
      "*****\n",
      "******\n"
     ]
    }
   ],
   "source": [
    "#2\n",
    "def myfunction(n):\n",
    "    for i in range(n):\n",
    "        for j in range(i+1):\n",
    "            print('*', end='')\n",
    "        print()\n",
    "myfunction(6)"
   ]
  },
  {
   "cell_type": "code",
   "execution_count": 99,
   "id": "7f3a9a44",
   "metadata": {},
   "outputs": [
    {
     "data": {
      "text/plain": [
       "('Oyun', 'Bat')"
      ]
     },
     "execution_count": 99,
     "metadata": {},
     "output_type": "execute_result"
    }
   ],
   "source": [
    "#3\n",
    "dict1 = {'Bat':18,'Oyun':22, 'Dulam':21, 'Suren':21}\n",
    "def func2(dict):\n",
    "        maxkey = max(dict, key=dict.get)\n",
    "        minkey = min(dict, key=dict.get)\n",
    "        return maxkey, minkey\n",
    "func2(dict1)"
   ]
  },
  {
   "cell_type": "code",
   "execution_count": 98,
   "id": "b525d21a",
   "metadata": {},
   "outputs": [
    {
     "name": "stdout",
     "output_type": "stream",
     "text": [
      "214216\n"
     ]
    }
   ],
   "source": [
    "#4\n",
    "import numpy as np\n",
    "x=(np.arange(1,1000))\n",
    "sum=0\n",
    "for i in x:\n",
    "    if((i%3==0) | (i%7==0)):\n",
    "        sum += i;\n",
    "print(sum)\n",
    "\n",
    "        \n",
    "\n",
    " \n"
   ]
  },
  {
   "cell_type": "code",
   "execution_count": null,
   "id": "f7eb7a43",
   "metadata": {},
   "outputs": [],
   "source": []
  },
  {
   "cell_type": "code",
   "execution_count": null,
   "id": "2497cdb4",
   "metadata": {},
   "outputs": [],
   "source": []
  }
 ],
 "metadata": {
  "kernelspec": {
   "display_name": "Python 3 (ipykernel)",
   "language": "python",
   "name": "python3"
  },
  "language_info": {
   "codemirror_mode": {
    "name": "ipython",
    "version": 3
   },
   "file_extension": ".py",
   "mimetype": "text/x-python",
   "name": "python",
   "nbconvert_exporter": "python",
   "pygments_lexer": "ipython3",
   "version": "3.9.7"
  }
 },
 "nbformat": 4,
 "nbformat_minor": 5
}
